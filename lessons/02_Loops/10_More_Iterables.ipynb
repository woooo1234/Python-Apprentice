{
 "cells": [
  {
   "cell_type": "markdown",
   "metadata": {},
   "source": [
    "# Iteration Functions\n",
    "\n",
    "Python has some very important iteration functions that you can use in your programs. \n",
    "\n",
    "* ``enumerate()`` iterates over an iterable and returns it with an index. \n",
    "* ``zip()`` combines two iterables, iterating through them side-by-side. \n",
    "* ``cycle()`` goes through an iterable, then starts over and keeps going. \n",
    "* ``islice()`` only takes a few of an iterable. \n",
    "\n",
    "Let's try some of these out. ( We'll work on ``enumerate()`` and ``zip()`` and leave\n",
    "the others for later. )\n"
   ]
  },
  {
   "cell_type": "code",
   "execution_count": 1,
   "metadata": {},
   "outputs": [
    {
     "name": "stdout",
     "output_type": "stream",
     "text": [
      "(0, 'red')\n",
      "(1, 'blue')\n",
      "(2, 'black')\n",
      "(3, 'orange')\n"
     ]
    }
   ],
   "source": [
    "# Enumerate\n",
    "\n",
    "colors =  [ 'red', 'blue', 'black', 'orange']\n",
    "\n",
    "for i in enumerate(colors):\n",
    "    print(i)"
   ]
  },
  {
   "cell_type": "markdown",
   "metadata": {},
   "source": [
    "Notice that each iteration, ``enumerate()`` reutrns a _tuple_. The first item in\n",
    "the tuple is its number in the list, and the second is the item in the list.\n",
    "Usually, we will _unpack_ the tuple. In Python you can write code like this: "
   ]
  },
  {
   "cell_type": "code",
   "execution_count": null,
   "metadata": {},
   "outputs": [],
   "source": [
    "t = (1,2,3)\n",
    "a,b,c = t\n",
    "print(t)\n",
    "print(a,b,c)"
   ]
  },
  {
   "cell_type": "markdown",
   "metadata": {},
   "source": [
    "Do you see what happend? When we wrote:\n",
    "\n",
    "```python \n",
    "\n",
    "a,b,c = t\n",
    "```\n",
    "\n",
    "The first item in ``t`` was assigned to ``a``, the second to ``b``, etc. That means when we use ``enumerate()`` we can write this instead:"
   ]
  },
  {
   "cell_type": "code",
   "execution_count": null,
   "metadata": {},
   "outputs": [],
   "source": [
    "# Enumerate with Unpacking\n",
    "\n",
    "colors =  [ 'red', 'blue', 'black', 'orange']\n",
    "\n",
    "for index, color in enumerate(colors): # Unpacking the tuple from enumerate()\n",
    "    print(\"#\", index, \"color is\", color)"
   ]
  },
  {
   "cell_type": "markdown",
   "metadata": {},
   "source": [
    "Another thing you should notice about our `enumerate()` example is that there\n",
    "is more than one variable in the `for` loop. This is called \"unpacking\" and it\n",
    "also works in assignment, where you can write:\n",
    "\n",
    "```python \n",
    "a,b = 1,2\n",
    "```\n",
    "\n",
    "That code will be equivalent to:\n",
    "\n",
    "```python\n",
    "a = 1\n",
    "b = 1\n",
    "```\n",
    "\n",
    "What is really going on is that on the left side of the assignment is a tuple,\n",
    "and on the right is an interable, so you can put any iterable on the right. Most\n",
    "of the time, you should have the same number of variables on the left as on the\n",
    "right, but you can also use `*` to indicate that one variable should \"suck up\"\n",
    "every thing left in the list. \n",
    "\n",
    "One more thing; you will sometimes use parentheses in the unpacking, such as when we\n",
    "write:\n",
    "\n",
    "```python\n",
    "\n",
    "pairs = [\n",
    "    ('a', 1),\n",
    "    ('b', 2),\n",
    "    ('c', 3)\n",
    "]\n",
    "\n",
    "for color, (item1, item2) in enumerate(colors, pairs):\n",
    "    ...\n",
    "\n",
    "```\n",
    "\n",
    "This one is more complex; it means that `enumerate()` is returning a tuple\n",
    "for its second element, and that tuple should also be unpacked. \n"
   ]
  },
  {
   "cell_type": "code",
   "execution_count": 2,
   "metadata": {},
   "outputs": [
    {
     "name": "stdout",
     "output_type": "stream",
     "text": [
      "0 1 2\n",
      "0 1 [2, 3, 4]\n",
      "0 [1, 2, 3] 4\n",
      "1 2 3 x y z\n"
     ]
    }
   ],
   "source": [
    "# Unpack a range\n",
    "a,b,c = range(3)\n",
    "print(a,b,c)\n",
    "\n",
    "# use *rest to capture all the rest of the values\n",
    "a,b,*rest = range(5)\n",
    "print(a,b,rest)\n",
    "\n",
    "# the * doesn't have to go at the end\n",
    "a,*b,c = range(5)\n",
    "print(a,b,c)\n",
    "\n",
    "# Unpacking multiple levels\n",
    "l1 = [1,2,3]\n",
    "t1 = ('x','y','z')\n",
    "\n",
    "t2 = [ l1, t1 ] # two levels deep!\n",
    "\n",
    "# Unpack all of the levels\n",
    "(a,b,c), (d,e,f) = t2\n",
    "\n",
    "print(a,b,c,d,e,f)\n",
    "\n"
   ]
  },
  {
   "cell_type": "markdown",
   "metadata": {},
   "source": [
    "We will study unpacking in a lot more detail later  for now you mostly need to understand how it works with iterator functions."
   ]
  },
  {
   "cell_type": "markdown",
   "metadata": {},
   "source": [
    "## Zip \n",
    "\n",
    "Zip is another really important interation tool. It lets you iterate over two lists at the same time. "
   ]
  },
  {
   "cell_type": "code",
   "execution_count": 3,
   "metadata": {},
   "outputs": [
    {
     "name": "stdout",
     "output_type": "stream",
     "text": [
      "a 1\n",
      "b 2\n",
      "c 3\n",
      "d 4\n"
     ]
    }
   ],
   "source": [
    "# Zip \n",
    "\n",
    "list1 = ['a','b','c','d']\n",
    "list2 = ['1','2','3','4']\n",
    "\n",
    "for l1, l2 in zip(list1, list2): # <- Ok, look, unpacking!\n",
    "    print(l1, l2)\n"
   ]
  },
  {
   "cell_type": "markdown",
   "metadata": {},
   "source": [
    "Notice what ``zip()``  did: For each iteration of the loop, it took the first item from both lists, then the second item from both lists, then the third, etc.  How could we use this in a turtle program? What if we had instructions about where the turtle should go and what colors it should draw lines?"
   ]
  },
  {
   "cell_type": "code",
   "execution_count": null,
   "metadata": {},
   "outputs": [],
   "source": [
    "# Use zip to iterate over two lists at once\n",
    "\n",
    "colors = [ 'red', 'blue', 'black', 'orange']\n",
    "\n",
    "# Each tuple in the directions is first, how far to turn, then how far to go\n",
    "directions = [\n",
    "    (0, 10),\n",
    "    (90, 20),\n",
    "    (0, 40),\n",
    "    (270, 10)\n",
    "]\n",
    "\n",
    "for color, (angle, distance) in zip(colors, directions):\n",
    "    print(f\"Move {distance} units in direction {angle} degrees and color {color}\")\n"
   ]
  },
  {
   "cell_type": "markdown",
   "metadata": {},
   "source": [
    "# islice\n",
    "\n",
    "The ``islice()`` function works like the slice notation on a list: it lets you\n",
    "decide where to start and stop iteration. For instance, if you wanted to only\n",
    "take the first 10 items of a list, you could use ``islice(l, 10)``\n",
    "\n",
    "For a normal list, you could just do that with `l[:10]`, so why would you need `islice()`?\n",
    "The reason is that a list has a finite number of items, but an iterator can go on forever, \n",
    "and like `range()` the iterator doesn't need to store the data ( it can generate it ) so \n",
    "you need something more flexible. \n",
    "\n",
    "For example:"
   ]
  },
  {
   "cell_type": "code",
   "execution_count": 5,
   "metadata": {},
   "outputs": [
    {
     "data": {
      "text/plain": [
       "[999995, 999996, 999997, 999998, 999999]"
      ]
     },
     "execution_count": 5,
     "metadata": {},
     "output_type": "execute_result"
    }
   ],
   "source": [
    "from itertools import islice # Important! \n",
    "\n",
    "N = 1_000_000 \n",
    "r = range(N)\n",
    "\n",
    "# range( iterator, stop ) or\n",
    "# range( iterator, start, stop, step)\n",
    "l = list( islice( r,N-5, N) )\n",
    "\n",
    "l\n"
   ]
  },
  {
   "cell_type": "code",
   "execution_count": 4,
   "metadata": {},
   "outputs": [
    {
     "name": "stdout",
     "output_type": "stream",
     "text": [
      "0\n",
      "1\n",
      "2\n",
      "3\n",
      "4\n"
     ]
    }
   ],
   "source": [
    "# Demonstrate islice\n",
    "\n",
    "from itertools import islice # Important! \n",
    "\n",
    "l = [0,1,2,3,4,5,6,7,8,9]\n",
    "\n",
    "for i in islice(l, 5): # Stop at 5\n",
    "    print(i)\n",
    "    "
   ]
  },
  {
   "cell_type": "markdown",
   "metadata": {},
   "source": []
  },
  {
   "cell_type": "markdown",
   "metadata": {},
   "source": [
    "# cycle\n",
    "\n",
    "The `cycle()` iterator function repeats its input interator over and over, infinitely, \n",
    "so it is exactly the kind of thing you want to use `islice()` for\n",
    "\n",
    "What if you has four colors, in a list: \n",
    "\n",
    "```python \n",
    "\n",
    "colors = [ 'red', 'blue', 'black', 'orange']\n",
    "\n",
    "```\n",
    "\n",
    "But you wanted to use the colors for a hexagon? You'd run out of colors. The ``cycle()`` iterator makes a list repeat infinitely. But, we don't want it \n",
    "to be infinite, we want it to got six times. We can use ``islice()`` and ``cycle()`` to solve that problem:\n"
   ]
  },
  {
   "cell_type": "code",
   "execution_count": null,
   "metadata": {},
   "outputs": [],
   "source": [
    "# Use cycle and islice\n",
    "\n",
    "from itertools import cycle, islice\n",
    "\n",
    "colors = [ 'red', 'blue', 'black', 'orange']\n",
    "\n",
    "for color in islice(cycle(colors), 25):\n",
    "    print(color, end=' ')\n"
   ]
  },
  {
   "cell_type": "markdown",
   "metadata": {},
   "source": []
  },
  {
   "cell_type": "code",
   "execution_count": null,
   "metadata": {},
   "outputs": [],
   "source": []
  }
 ],
 "metadata": {
  "kernelspec": {
   "display_name": ".venv",
   "language": "python",
   "name": "python3"
  },
  "language_info": {
   "codemirror_mode": {
    "name": "ipython",
    "version": 3
   },
   "file_extension": ".py",
   "mimetype": "text/x-python",
   "name": "python",
   "nbconvert_exporter": "python",
   "pygments_lexer": "ipython3",
   "version": "3.12.4"
  }
 },
 "nbformat": 4,
 "nbformat_minor": 2
}
