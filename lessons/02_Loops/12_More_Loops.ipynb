{
 "cells": [
  {
   "cell_type": "markdown",
   "metadata": {},
   "source": [
    "# More Loops\n",
    "\n",
    "## While Loops\n",
    "\n",
    "While loops are similar to for loops. Both repeat the code inside the loop.\n",
    "The for loop repeats code for a specified number of times.\n",
    "The while loop repeats code for as long as a condition is True.\n",
    "\n",
    "\n",
    "A while loop looks like this:\n",
    "\n",
    "```python\n",
    "while <condition>:\n",
    "      Code to repeat\n",
    "```\n",
    "\n",
    "Where `condition` is a boolean variable or something that evaluates to a boolean\n",
    "(True or False). This is similar to an if or elif statement. Here is an example\n",
    "of a while loop:\n",
    "\n",
    "```python \n",
    "\n",
    "s = 0\n",
    "while s < 55:\n",
    "  s = s +1\n",
    "\n",
    "```"
   ]
  },
  {
   "cell_type": "markdown",
   "metadata": {},
   "source": [
    "## Break and Continue\n",
    "\n",
    "To recap: \n",
    "\n",
    "* A `for` loop runs until the iterator runs out of items\n",
    "* A `while` loop runs until the condition is false. \n",
    "\n",
    "But there is another way to cause a loop to exit: the `break` key  word will\n",
    "cause a loop to exit immediately. \n"
   ]
  },
  {
   "cell_type": "code",
   "execution_count": 5,
   "metadata": {},
   "outputs": [
    {
     "name": "stdout",
     "output_type": "stream",
     "text": [
      "0 1 2 3 4 5 \n",
      "0 1 2 3 4 5 "
     ]
    }
   ],
   "source": [
    "# count() is an infinite iterator that returns numbers sequentially, 0,1,2,3 ...\n",
    "\n",
    "from itertools import count\n",
    "\n",
    "for i in count():\n",
    "\n",
    "    print(i, end = ' ')\n",
    "\n",
    "    if i >= 5: # break if i is greater than or equal to 5\n",
    "        print() # print a newline\n",
    "        break\n",
    "\n",
    " # Another way to do the same thing\n",
    "\n",
    "i = 0\n",
    "while True:\n",
    "   \n",
    "    print(i, end = ' ')\n",
    "    if i >= 5:\n",
    "        break\n",
    "\n",
    "    i = i + 1\n"
   ]
  },
  {
   "cell_type": "markdown",
   "metadata": {},
   "source": [
    "Sometimes you want to skip the rest of the loop and go back to the start, which you can do with `continue`."
   ]
  },
  {
   "cell_type": "code",
   "execution_count": null,
   "metadata": {},
   "outputs": [],
   "source": [
    "from itertools import count\n",
    "\n",
    "for i in count():\n",
    "\n",
    "    if i % 3 == 0: # skip printing the number if it is divisible by 3\n",
    "        continue \n",
    "\n",
    "    print(i, end = ' ')\n",
    "\n",
    "    if i >= 10: # break if i is greater than or equal to 5\n",
    "        print() # print a newline\n",
    "        break"
   ]
  },
  {
   "cell_type": "markdown",
   "metadata": {},
   "source": [
    "Python has another loop feature that most languages do not have, the else clause\n",
    "in a loop. The else clause is executed when the loop terminates normally (the\n",
    "condition is false). It is not executed if the loop is terminated by a break\n",
    "statement.\n"
   ]
  },
  {
   "cell_type": "code",
   "execution_count": 1,
   "metadata": {},
   "outputs": [
    {
     "name": "stdout",
     "output_type": "stream",
     "text": [
      "0 1 2 3 4 5 6 7 8 9 else block\n",
      "0 1 2 3 4 5 6 breaking, skip the else\n"
     ]
    }
   ],
   "source": [
    "# Complete the loop and run the else block\n",
    "\n",
    "for i in range(10):\n",
    "    print(i, end = ' ')\n",
    "else:\n",
    "    print('else block') \n",
    "\n",
    "\n",
    "# Break and do not execute the else block\n",
    "for i in range(10):\n",
    "    print(i, end = ' ')\n",
    "\n",
    "    if i > 5:\n",
    "        print('breaking, skip the else')\n",
    "        break\n",
    "\n",
    "else:\n",
    "    print('else block') "
   ]
  },
  {
   "cell_type": "markdown",
   "metadata": {},
   "source": [
    "Here is a method of finding prime numbers, from the [Python documentation](https://docs.python.org/3/tutorial/controlflow.html#break-and-continue-statements-and-else-clauses-on-loops). "
   ]
  },
  {
   "cell_type": "code",
   "execution_count": 2,
   "metadata": {},
   "outputs": [
    {
     "name": "stdout",
     "output_type": "stream",
     "text": [
      "2 is a prime number\n",
      "3 is a prime number\n",
      "4 equals 2 * 2\n",
      "5 is a prime number\n",
      "6 equals 2 * 3\n",
      "7 is a prime number\n",
      "8 equals 2 * 4\n",
      "9 equals 3 * 3\n",
      "10 equals 2 * 5\n",
      "11 is a prime number\n",
      "12 equals 2 * 6\n",
      "13 is a prime number\n",
      "14 equals 2 * 7\n"
     ]
    }
   ],
   "source": [
    "\n",
    "for n in range(2, 15):\n",
    "    for x in range(2, n):\n",
    "        if n % x == 0:\n",
    "            print(n, 'equals', x, '*', n//x)\n",
    "            break\n",
    "    else:\n",
    "        # loop fell through without finding a factor\n",
    "        print(n, 'is a prime number')"
   ]
  },
  {
   "cell_type": "markdown",
   "metadata": {},
   "source": [
    "For a `while` block, the else block is executed when then condition is met. "
   ]
  },
  {
   "cell_type": "code",
   "execution_count": 4,
   "metadata": {},
   "outputs": [
    {
     "name": "stdout",
     "output_type": "stream",
     "text": [
      "0 1 2 3 4 else block\n",
      "0 1 2 3 4 5 breaking, skip the else\n"
     ]
    }
   ],
   "source": [
    "\n",
    "# Exit the loop when the condition is met, and run the else block\n",
    "i = 0\n",
    "while i < 5:\n",
    "   \n",
    "    print(i, end = ' ')\n",
    "\n",
    "    i = i + 1\n",
    "\n",
    "else:\n",
    "    print('else block')\n",
    "\n",
    "# Exit with break, and do not execute the else block\n",
    "i = 0\n",
    "while True:\n",
    "   \n",
    "    print(i, end = ' ')\n",
    "    if i >= 5:\n",
    "        print('breaking, skip the else')\n",
    "        break\n",
    "\n",
    "    i = i + 1\n",
    "\n",
    "else:\n",
    "    print('else block')"
   ]
  },
  {
   "cell_type": "markdown",
   "metadata": {},
   "source": [
    "It's actually very rare to need an `else` block on a `for` or `while` loop, but you will use `break` and `continue` a lot. "
   ]
  },
  {
   "cell_type": "markdown",
   "metadata": {},
   "source": []
  }
 ],
 "metadata": {
  "kernelspec": {
   "display_name": ".venv",
   "language": "python",
   "name": "python3"
  },
  "language_info": {
   "codemirror_mode": {
    "name": "ipython",
    "version": 3
   },
   "file_extension": ".py",
   "mimetype": "text/x-python",
   "name": "python",
   "nbconvert_exporter": "python",
   "pygments_lexer": "ipython3",
   "version": "3.12.4"
  }
 },
 "nbformat": 4,
 "nbformat_minor": 2
}
