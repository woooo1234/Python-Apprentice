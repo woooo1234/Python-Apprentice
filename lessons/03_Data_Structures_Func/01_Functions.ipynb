{
 "cells": [
  {
   "cell_type": "markdown",
   "metadata": {},
   "source": [
    "# Functions and Data Structures\n",
    "\n",
    "\n",
    "## Functions\n",
    "\n",
    "We've seen functions a few times, but haven't explained how they work in detail. Let's eplore functions. \n",
    "\n",
    "A function looks like this:\n",
    "\n",
    "```python \n",
    "\n",
    "def add_ten(x):\n",
    "    return x + 10\n",
    "\n",
    "```\n",
    "\n",
    "Then we can use the function like this:\n",
    "\n",
    "```python \n",
    "y = add_ten(5)\n",
    "```\n",
    "\n",
    "The important parts of a function are: \n",
    "\n",
    "* It has a name, which comes right after \"def\"\n",
    "* It has argument, or input values, that come right after the name. \n",
    "* The body of the function is an indented block\n",
    "* The function returns a value, which py default is  `None`\n",
    "\n",
    "The simplest function you can write is:\n"
   ]
  },
  {
   "cell_type": "code",
   "execution_count": null,
   "metadata": {},
   "outputs": [],
   "source": [
    "def do_nothing():\n",
    "    pass\n",
    "\n",
    "y = do_nothing()\n",
    "print(y)"
   ]
  },
  {
   "cell_type": "markdown",
   "metadata": {},
   "source": [
    "The `pass` key word means \"do nothing\"; it just takes up space so the function\n",
    "will have a body that is properly indented. This function does not have a\n",
    "`return` statement, so it returns the empty value `None`.\n",
    "\n",
    "The important uses of functions is that they make parts of your program\n",
    "reusable, and properly breaking a program into functions makes the program\n",
    "easier to understand, use and test, especially if the function and it's\n",
    "arguments have names that indicate what the function and arguments do or\n",
    "what data they hold. \n",
    "\n",
    "By the way .... have you [checked in your code](https://curriculum.jointheleague.org/howto/checkin_restart.html)?\n"
   ]
  },
  {
   "cell_type": "markdown",
   "metadata": {},
   "source": [
    "## Function arguments\n",
    "\n",
    "Function argument are the values you pass into the function so it can compute the value it returns. \n",
    "You name the arguments on the argument list, and there are a few ways to assign values to arguments when you\n",
    "call the function: you can specify the arguments by position, or by name. \n",
    "\n",
    "For instance:"
   ]
  },
  {
   "cell_type": "code",
   "execution_count": 1,
   "metadata": {},
   "outputs": [
    {
     "name": "stdout",
     "output_type": "stream",
     "text": [
      "How are you doing, Tommy!\n",
      "Bounjour, Alice!\n",
      "Hello, Alice!\n",
      "Hello, Bob!\n"
     ]
    }
   ],
   "source": [
    "# Demonstrate function arguments\n",
    "\n",
    "def greet_user(name, greeting):\n",
    "    print(f\"{greeting}, {name}!\")\n",
    "\n",
    "# Call function with \"positional\" arguments. He first argument\n",
    "greet_user('Tommy', 'How are you doing')\n",
    "# is assigned `name`, the second is assigned `greeting`.\n",
    "\n",
    "greet_user(\"Alice\", \"Bounjour\")\n",
    "\n",
    "# We can also call the function with \"keyword\" arguments. This\n",
    "# allows us to specify the arguments in any order.\n",
    "\n",
    "greet_user(greeting=\"Hello\", name=\"Alice\") # greeting and name are in opposite order!\n",
    "\n",
    "# You can mix positional and keyword arguments, but all positional\n",
    "# arguments must come first.\n",
    "\n",
    "greet_user(\"Bob\", greeting=\"Hello\")\n",
    "t        \n",
    "\n",
    "# You can't have a positional argument after a keyword argument.\n",
    "# This will cause an error ( uncomment and run to see )\n",
    "# greet_user(name = \"Bob\", greeting)\n",
    "\n",
    "# You also can't specify an argument more than once. This will also\n",
    "# cause an error ( uncomment and run to see )\n",
    "# greet_user(\"Bob\", name=\"Bob\")\n",
    "\n",
    "\n",
    "# And, you can't skip an argument ( if it doesn't have a default value.)\n",
    "# This will also cause an error ( uncomment and run to see )\n",
    "# greet_user(\"Bob\")\n",
    "\n",
    "\n"
   ]
  },
  {
   "cell_type": "markdown",
   "metadata": {},
   "source": [
    "You can also specify default values for arguments. If an argument has a default value, it is optional, \n",
    "but the default arguments must go at the end of the list. \n",
    "    "
   ]
  },
  {
   "cell_type": "code",
   "execution_count": null,
   "metadata": {},
   "outputs": [],
   "source": [
    "def greet_user(name, greeting='Hello', punct=\"!\"):\n",
    "    print(f\"{greeting}, {name}{punct}\")\n",
    "\n",
    "# Use the default value for punct and hello\n",
    "greet_user(\"Alice\")\n",
    "\n",
    "# Or, override the default value\n",
    "greet_user(\"Alice\", \"Hello\", \".\")\n",
    "\n",
    "\n"
   ]
  },
  {
   "cell_type": "markdown",
   "metadata": {},
   "source": [
    "Another important point is that the variables you use in your function have to be declared, \n",
    "such as by including the variable in the argument list. So this will throw an error:\n",
    "\n"
   ]
  },
  {
   "cell_type": "code",
   "execution_count": null,
   "metadata": {},
   "outputs": [],
   "source": [
    "def greet_user(name, greeting='Hello'):\n",
    "    print(f\"{greeting}, {name}{punct}\")\n",
    "\n",
    "greet_user(\"Alice\")"
   ]
  },
  {
   "cell_type": "markdown",
   "metadata": {},
   "source": [
    "Python didn't know what the variable `punct` is, so it could not run the function. "
   ]
  },
  {
   "cell_type": "markdown",
   "metadata": {},
   "source": [
    "# Test Yourself\n",
    "\n",
    "Write a function that will take two strings. The first is a character, and the second\n",
    "is a longer string. The function will iterate over the second string and return the\n",
    "position that the character has in the string.\n",
    "\n",
    "If the chracter is not in the string, return -1\n",
    "\n",
    "For instance: \n",
    "\n",
    "```python \n",
    "find_char('x', 'My fox likes bricks') == 5\n",
    "find char('z', 'There is a zebra in the garden') == 11\n",
    "find char('w', \"I've lost my shoes\") == -1\n",
    "```\n",
    "\n",
    "\n",
    "We will use `assert` to check your function. Assert will raise an error if the expression \n",
    "is not True. \n",
    "\n",
    "Hint: you can `enumerate()` your string to get all of the characters and their positions. \n"
   ]
  },
  {
   "cell_type": "code",
   "execution_count": null,
   "metadata": {},
   "outputs": [],
   "source": [
    "# Test yourself\n",
    "\n",
    "# Write your own find_char function that takes a character and a string\n",
    "def find_char('y', 'I love going for walks')\n",
    "assert find_char('x', 'My fox likes bricks') == 5\n",
    "assert find_char('z', 'There is a zebra in the garden') == 11\n",
    "assert find_char('w', \"I've lost my shoes\") == -1"
   ]
  },
  {
   "cell_type": "markdown",
   "metadata": {},
   "source": [
    "## Composition\n",
    "\n",
    "You aren't limited to putting numbers and strings into function arguments; you\n",
    "get put in anything that has a value ( which we call an `expression` )\n",
    "\n",
    "For instance, suppose we have the functions\n",
    "\n",
    "```python \n",
    "\n",
    "def f(a,b):\n",
    "    pass\n",
    "\n",
    "def g(c,d):\n",
    "    pass\n",
    "```\n",
    "\n",
    "THe w can pass the output of f() directly into g()\n",
    "\n",
    "```python \n",
    "g( f(1,2), f(3,4))\n",
    "```\n",
    "\n",
    "Or put expressions in the argument list: \n",
    "\n",
    "```python \n",
    "g( f(1,2)*f(3,4), f(5,6)-f(7,8))\n",
    "```\n",
    "\n",
    "# Test Yourself\n",
    "\n",
    "Test yourself by writing functions. \n"
   ]
  },
  {
   "cell_type": "code",
   "execution_count": null,
   "metadata": {},
   "outputs": [],
   "source": [
    "# Test Yourself\n",
    "\n",
    "# Write a function to add two numbers and return the result\n",
    "\n",
    "# Write a function to subtract two numbers and return the result \n",
    "\n",
    "# Write a function to print \"Same\" if two numbers are the same, otherwise print \"Different\"\n",
    "\n",
    "# Use your functions to show that  2 + 2 = 4\n",
    "\n",
    "# Use your functions to show that  ( 5 + 3) - 2 = 6\n",
    "\n",
    "# Use your functions to show that  2 + 2  !=  3 + 3 = 6\n",
    "\n"
   ]
  },
  {
   "cell_type": "markdown",
   "metadata": {},
   "source": [
    "## Oh No Closures\n",
    "\n",
    "Here is a warning, and also an exciting new feature, about functions. This function will work, but maybe not\n",
    "the way you expect:\n",
    "\n"
   ]
  },
  {
   "cell_type": "code",
   "execution_count": 2,
   "metadata": {},
   "outputs": [
    {
     "name": "stdout",
     "output_type": "stream",
     "text": [
      "Hello, Bob\n"
     ]
    }
   ],
   "source": [
    "name = 'Bob'\n",
    "\n",
    "def greet_user(greeting):\n",
    "    print(f\"{greeting}, {name}\")\n",
    "\n",
    "\n",
    "greet_user(\"Hello\")\n",
    "\n"
   ]
  },
  {
   "cell_type": "markdown",
   "metadata": {},
   "source": [
    "Are you surprised that worked? If not, go read it again ...\n",
    "\n",
    "The `name` variable is not in the argument list of the function, so the function should not have been able to run. But it did ... because it\n",
    "got the variable from outside the function. This behavior is called a `closure`, and it is very, very useful. But it will also cause problems if \n",
    "you aren't careful. \n",
    "\n",
    "The lessons is: always include the variables you use in your function in your argument list, unless you know why you want a closure. ( And you don't yet! ) \n",
    "\n"
   ]
  },
  {
   "cell_type": "markdown",
   "metadata": {},
   "source": [
    "## Exceptions\n",
    "\n",
    "Sometimes, things go wrong. You can call these problems \"errors\" but they are\n",
    "often known as \"exceptional conditions\" because they aren't the usual thing that happens. \n",
    "For instance, what if we try to make an iteger of something that can't be an integer?\n",
    "\n"
   ]
  },
  {
   "cell_type": "code",
   "execution_count": 3,
   "metadata": {},
   "outputs": [
    {
     "ename": "ValueError",
     "evalue": "invalid literal for int() with base 10: 'This is not an integer'",
     "output_type": "error",
     "traceback": [
      "\u001b[0;31m---------------------------------------------------------------------------\u001b[0m",
      "\u001b[0;31mValueError\u001b[0m                                Traceback (most recent call last)",
      "Cell \u001b[0;32mIn[3], line 1\u001b[0m\n\u001b[0;32m----> 1\u001b[0m \u001b[38;5;28;43mint\u001b[39;49m\u001b[43m(\u001b[49m\u001b[38;5;124;43m\"\u001b[39;49m\u001b[38;5;124;43mThis is not an integer\u001b[39;49m\u001b[38;5;124;43m\"\u001b[39;49m\u001b[43m)\u001b[49m\n",
      "\u001b[0;31mValueError\u001b[0m: invalid literal for int() with base 10: 'This is not an integer'"
     ]
    }
   ],
   "source": [
    "int(\"This is not an integer\")"
   ]
  },
  {
   "cell_type": "markdown",
   "metadata": {},
   "source": [
    "The 'ValueError' part of the message is called an exception. It isn't just a message, its a thing we can use in our program to handle errors. For instance, suppose we have a list of things to convert to integers: "
   ]
  },
  {
   "cell_type": "code",
   "execution_count": null,
   "metadata": {},
   "outputs": [],
   "source": [
    "for e in  [0,1, 65, 'Bob', 23,'larry']:\n",
    "    i = int(e)\n",
    "    print(f\"Converting {e} to an integer {i}\")"
   ]
  },
  {
   "cell_type": "markdown",
   "metadata": {},
   "source": [
    "Well, we didn't get very far through the list. But, we can \"catch\" the exception and do something with it. It works like this:"
   ]
  },
  {
   "cell_type": "code",
   "execution_count": 4,
   "metadata": {},
   "outputs": [
    {
     "name": "stdout",
     "output_type": "stream",
     "text": [
      "Converting 0 to an integer 0\n",
      "Converting 1 to an integer 1\n",
      "Converting 65 to an integer 65\n",
      "Could not convert Bob to an integer\n",
      "Converting 23 to an integer 23\n",
      "Could not convert larry to an integer\n"
     ]
    }
   ],
   "source": [
    "for e in  [0,1, 65, 'Bob', 23,'larry']:\n",
    "\n",
    "    try:\n",
    "        i = int(e)\n",
    "        print(f\"Converting {e} to an integer {i}\")\n",
    "    except ValueError:\n",
    "        print(f\"Could not convert {e} to an integer\")\n",
    "        \n"
   ]
  },
  {
   "cell_type": "markdown",
   "metadata": {},
   "source": [
    "Using the `try/except` structure, we can do something different if an error is\n",
    "raised. This is a very advanced feature, and there is a lot you can do with it,\n",
    "but for now, remember this structure, and remember that the part that goes after\n",
    "the `except` is the name of the exception that you see in the error. Other types\n",
    "of errors have other types of exceptions. \n"
   ]
  },
  {
   "cell_type": "code",
   "execution_count": null,
   "metadata": {},
   "outputs": [],
   "source": [
    "# Run me! Uncomment one of the code lines to see the error it produces\n",
    "# Put the comment back to see another error\n",
    "# Index a list with a string\n",
    "\n",
    "my_list = [1,2,3,4,5]\n",
    "\n",
    "#print(my_list['Bob']) # TypeError: list indices must be integers or slices, not str\n",
    "\n",
    "#print(my_list[20]) # IndexError: list index out of range\n",
    "\n",
    "# assert False # AssertionError ( Although you don't usually catch assertions ) \n",
    "\n",
    "# x = 10 / 0 # ZeroDivisionError: division by zero\n",
    "\n"
   ]
  },
  {
   "cell_type": "markdown",
   "metadata": {},
   "source": [
    "If you want to catch multiple exceptions ways to do it, and if you do, you will usually also want to name the exception. We've provided an exception name in the example below; each exceptino is named `e`.\n",
    "\n"
   ]
  },
  {
   "cell_type": "code",
   "execution_count": null,
   "metadata": {},
   "outputs": [],
   "source": [
    "\n",
    "# You can list the different types of different `except` clauses:\n",
    "\n",
    "try:\n",
    "    pass# do something\n",
    "except ValueError as e:\n",
    "    print(f\"Got a value error {e}\")\n",
    "except TypeError as e:\n",
    "    print(f\"Got a type error {e}\")\n",
    "except ZeroDivisionError as e:\n",
    "    print(f\"Got a zero division error {e}\")\n",
    "\n",
    "\n",
    "# Or, you can use the \"superclass\" Exception to catch all exceptions\n",
    "# But there are a lot of reasons to *not* do this\n",
    "\n",
    "try:\n",
    "    pass# do something\n",
    "except Exception as e:\n",
    "    # Get all types of exceptions. \n",
    "    print(f\"Got an exception {e}\")"
   ]
  },
  {
   "cell_type": "markdown",
   "metadata": {},
   "source": [
    "# Test Yourself\n",
    "\n",
    "Write a program that runs in a endless loop. Get a string from the user using\n",
    "`input()` and convert it to an integer. If the user's input cannot be converted\n",
    "to an integer ( and the user didn't enter 'q' )  check to see if the number is\n",
    "in the list. If it is, print \"You got one!\". Exit the loop if the user enters\n",
    "'q'. Report an error if the user's string cannot be converted to a number. \n",
    "\n",
    "If the user's number is not in the list, tell the user what the n'th number is\n",
    "in the list is. That is, if the user enters `7`, and `7` is not in the list,\n",
    "then tell the user '7 is not in the list, but the 7th number is the list is X',\n",
    "where X is the 7th number. Be sure to handle the case where the list is shorter\n",
    "than 7 elements, using an exception. \n",
    "\n",
    "You can check if something is in a list with `in`, like this:\n",
    "\n",
    "```python \n",
    "\n",
    "if 5 in [1,2,3,4,5]:\n",
    "    print(\"It's In!\")\n",
    "    \n",
    "\n",
    "\n"
   ]
  },
  {
   "cell_type": "code",
   "execution_count": null,
   "metadata": {},
   "outputs": [],
   "source": [
    "# Test Yourself\n",
    "\n",
    "# Check if the user's numbers are in this list:\n",
    "\n",
    "l = [5,10,45, 56]\n",
    "\n",
    "# Forever loop until the user enters a number in the list\n",
    "\n",
    "    # Get a number from the user. \n",
    "\n",
    "    # If the user enteres 'q', exit the loop\n",
    "\n",
    "    # If the user's number is in the list, print \"Found it!\" and contine the loop\n",
    "\n",
    "    # If the user's number is not in the list, find the n'th number in the list. Print it and continue the loop\n"
   ]
  },
  {
   "cell_type": "code",
   "execution_count": null,
   "metadata": {},
   "outputs": [],
   "source": []
  }
 ],
 "metadata": {
  "kernelspec": {
   "display_name": ".venv",
   "language": "python",
   "name": "python3"
  },
  "language_info": {
   "codemirror_mode": {
    "name": "ipython",
    "version": 3
   },
   "file_extension": ".py",
   "mimetype": "text/x-python",
   "name": "python",
   "nbconvert_exporter": "python",
   "pygments_lexer": "ipython3",
   "version": "3.12.4"
  }
 },
 "nbformat": 4,
 "nbformat_minor": 2
}
